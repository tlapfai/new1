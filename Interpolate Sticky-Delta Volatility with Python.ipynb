{
 "cells": [
  {
   "cell_type": "markdown",
   "metadata": {},
   "source": [
    "# Interpolate Sticky-Delta Volatility with Python\n",
    "\n",
    "In OTC FX option market, volatility smiles are quoted in a delta-volatilty instead of strike-volatility convention in equity option market. For pricing a given option, when one prepares volatility as a parameter in a Black-Scholes formula, they need to calculate the volatility for the given strike price in a delta-volatility dimension matrix.\n",
    "\n",
    "## 1. Quoted in Delta (premium excluded)\n",
    "Premium excluded delta is the case where the premium is paid in the quoted currency (ccy2) of a currency pair, for example EUR/USD. Here the deltas can be used for interpolation without any adjustment.\n",
    "\n",
    "First, setup the market data.\n",
    "You may notice that negative deltas are used, which means they are deltas of put. The reason will be explained in the section for premium included delta."
   ]
  },
  {
   "cell_type": "code",
   "execution_count": 1,
   "metadata": {},
   "outputs": [],
   "source": [
    "import QuantLib as ql\n",
    "import math\n",
    "import numpy as np\n",
    "import matplotlib.pyplot as plt\n",
    "\n",
    "as_of_date = ql.Date(1,2,2022)\n",
    "# Market Data\n",
    "tenors = [ql.Period('1M'), ql.Period('3M'), ql.Period('6M')]\n",
    "maturities = [as_of_date + t for t in tenors]\n",
    "voltilities = [[0.040, 0.030, 0.020, 0.025, 0.035], \n",
    "               [0.045, 0.040, 0.030, 0.035, 0.042],\n",
    "               [0.060, 0.052, 0.035, 0.045, 0.048],\n",
    "              ]\n",
    "deltas = [[-0.90, -0.75, -0.5, -0.25, -0.10], \n",
    "          [-0.90, -0.75, -0.5, -0.25, -0.10], \n",
    "          [-0.90, -0.75, -0.5, -0.25, -0.10], \n",
    "         ]\n",
    "delta_type = ql.DeltaVolQuote.Spot\n",
    "rTS = ql.FlatForward(ql.Date(1,2,2022), ql.QuoteHandle(ql.SimpleQuote(0.0)), ql.Actual360(), ql.Compounded, ql.Annual)\n",
    "qTS = ql.FlatForward(ql.Date(1,2,2022), ql.QuoteHandle(ql.SimpleQuote(0.0)), ql.Actual360(), ql.Compounded, ql.Annual)\n",
    "spot = 1.1\n",
    "strike = 1.2"
   ]
  },
  {
   "cell_type": "markdown",
   "metadata": {},
   "source": [
    "Striky-delta is the quotation form that has delta for x-axis and volatility for y-axis. When we price a option with given strike, we firstly need to convert the strike to delta then map it to volatility. However, the delta formula needs both strike and volatility as inputs.\n",
    "$${\\Delta}_{put}(K,{\\sigma}) = {e}^{-(r-q)t}N(-\\frac{ln(\\frac{S}{K})+(r-q+\\frac{{\\sigma}^2}{2})t}{{\\sigma}\\sqrt{t}})$$\n",
    "Therefore, we need an initial guess of ${\\sigma}_{1}$ as input together with ${K}$, and obtain ${\\Delta}_{put}$ then interpolate ${\\sigma}$ from the ${\\Delta}$-${\\sigma}$ quotation. Usually ${\\sigma}_{ATM}$ is chosen to be the initial guess. The output ${\\sigma}_{2}$ will be different from our input ${\\sigma}_{1}$, so that we use ${\\sigma}_{2}$ as input and repeat the step, until the input ${\\sigma}_{n}$ and ouput ${\\sigma}_{n+1}$ are close enough.\n",
    "\n",
    "Let's setup a target function (as a class) for recurrsion. All the parameters are decided in `__init__` except ${\\sigma}$ (argument `v0`). For the convertion from ${K}$ to ${\\Delta}$, we leverage `BlackDeltaCalculator` class in QuantLib. This class has a method `deltaFromStrike` doing the convertion.\n",
    "\n",
    "In this `TargetFun` class, $K$ (`strike`) is decided in the initialization stage. After that, in the call stage, we can plug the guess `v0` as ${\\sigma}_{i}$ into `TargetFun(v0)` then obtain the difference of ${\\sigma}_{i+1}$ and ${\\sigma}_{i}$."
   ]
  },
  {
   "cell_type": "code",
   "execution_count": 2,
   "metadata": {},
   "outputs": [],
   "source": [
    "class TargetFun:\n",
    "    def __init__(self, as_of_date, spot, rdf, qdf, strike, maturity, deltas, delta_type, smile, interp):\n",
    "        self.ref_date = as_of_date\n",
    "        self.strike = strike\n",
    "        self.maturity = maturity\n",
    "        self.spot = spot\n",
    "        self.rDcf = rdf # discount factor\n",
    "        self.qDcf = qdf # discount factor\n",
    "        self.t = ql.Actual365Fixed().yearFraction(as_of_date, self.maturity)\n",
    "        self.interp = interp(deltas, smile)\n",
    "        self.delta_type = delta_type\n",
    "        \n",
    "    def __call__(self, v0):\n",
    "        optionType = ql.Option.Put\n",
    "        stdDev = math.sqrt(self.t) * v0\n",
    "        calc = ql.BlackDeltaCalculator(optionType, self.delta_type, self.spot, self.rDcf, self.qDcf, stdDev)\n",
    "        d = calc.deltaFromStrike(self.strike)\n",
    "        v = self.interp(d, allowExtrapolation=True)\n",
    "        return (v - v0)"
   ]
  },
  {
   "cell_type": "markdown",
   "metadata": {},
   "source": [
    "Choose a solver in QuantLib."
   ]
  },
  {
   "cell_type": "code",
   "execution_count": 3,
   "metadata": {},
   "outputs": [],
   "source": [
    "solver = ql.Brent()\n",
    "accuracy = 1e-16\n",
    "step = 1e-12"
   ]
  },
  {
   "cell_type": "markdown",
   "metadata": {},
   "source": [
    "So far we have prepared the `TargetFun` and all the market data, now all we need to do is to give a $K$ and solve the `TargetFun`."
   ]
  },
  {
   "cell_type": "code",
   "execution_count": 4,
   "metadata": {
    "scrolled": false
   },
   "outputs": [
    {
     "data": {
      "image/png": "[encoded data removed]",
      "text/plain": [
       "<Figure size 432x288 with 1 Axes>"
      ]
     },
     "metadata": {
      "needs_background": "light"
     },
     "output_type": "display_data"
    }
   ],
   "source": [
    "vol_vs_strike = []\n",
    "strikes = np.linspace(1.02, 1.17, 100, endpoint=False)\n",
    "display_maturity = as_of_date + ql.Period('3M')\n",
    "\n",
    "for k in strikes:\n",
    "    vol_pts = []\n",
    "    for i, smile in enumerate(voltilities):\n",
    "        mat = maturities[i]\n",
    "        target = TargetFun(as_of_date, \n",
    "                           spot,\n",
    "                           rTS.discount(mat), \n",
    "                           qTS.discount(mat), \n",
    "                           k, \n",
    "                           maturities[i], \n",
    "                           deltas[i], \n",
    "                           delta_type, \n",
    "                           smile, \n",
    "                           ql.LinearInterpolation) # usually use cubic spline (ql.CubicNaturalSpline)\n",
    "        guess = smile[2]\n",
    "        vol_pts.append(solver.solve(target, accuracy, guess, step))\n",
    "\n",
    "    vts = ql.BlackVarianceCurve(as_of_date, \n",
    "                                maturities,\n",
    "                                vol_pts, \n",
    "                                ql.Actual365Fixed(), \n",
    "                                False)\n",
    "    vts.enableExtrapolation()\n",
    "    vts_handle = ql.BlackVolTermStructureHandle(vts)\n",
    "    vol_vs_strike.append(vts_handle.blackVol(display_maturity, 1.0))\n",
    "\n",
    "plt.plot(strikes, vol_vs_strike)\n",
    "plt.xlabel('Strike')\n",
    "plt.ylabel('Volatility')\n",
    "plt.title(f'Volatility at 3M ({display_maturity})')\n",
    "plt.grid(True)\n",
    "plt.show()"
   ]
  },
  {
   "cell_type": "code",
   "execution_count": 5,
   "metadata": {},
   "outputs": [
    {
     "name": "stdout",
     "output_type": "stream",
     "text": [
      "(1.02, 4.664327688939244)\n",
      "(1.0215, 4.663742127059701)\n",
      "(1.023, 4.663025777420972)\n",
      "(1.0245, 4.662153559551893)\n",
      "(1.026, 4.661096589567777)\n",
      "(1.0275, 4.65982183123114)\n",
      "(1.029, 4.658291763931581)\n",
      "(1.0305, 4.656464079411353)\n",
      "(1.032, 4.654291419757321)\n",
      "(1.0335, 4.651721169227866)\n",
      "(1.035, 4.648695311735993)\n",
      "(1.0365, 4.645150364163889)\n",
      "(1.038, 4.641017393103521)\n",
      "(1.0395, 4.636222119154516)\n",
      "(1.041, 4.630685108715083)\n",
      "(1.0425, 4.624322048519056)\n",
      "(1.044, 4.6170440933254735)\n",
      "(1.0455, 4.6087582725230245)\n",
      "(1.047, 4.59936793733782)\n",
      "(1.0485, 4.5887732271489075)\n",
      "(1.05, 4.576871531350448)\n",
      "(1.0515, 4.563557922357436)\n",
      "(1.053, 4.548725535701637)\n",
      "(1.0545, 4.532265874541195)\n",
      "(1.056, 4.514069018038038)\n",
      "(1.0575, 4.494023715592503)\n",
      "(1.059, 4.472017351479991)\n",
      "(1.0605, 4.44793576662323)\n",
      "(1.062, 4.421662925693854)\n",
      "(1.0635, 4.393080418141144)\n",
      "(1.065, 4.362066780796795)\n",
      "(1.0665, 4.32849662711453)\n",
      "(1.068, 4.292239563554081)\n",
      "(1.0695, 4.253158866711061)\n",
      "(1.071, 4.211109884964745)\n",
      "(1.0725, 4.165938114840138)\n",
      "(1.074, 4.117476883712553)\n",
      "(1.0755, 4.065544545030713)\n",
      "(1.077, 4.009941056996208)\n",
      "(1.0785, 3.9504437661230405)\n",
      "(1.08, 3.8868021462533293)\n",
      "(1.0815, 3.818731140130548)\n",
      "(1.083, 3.7459025960375323)\n",
      "(1.0845, 3.667934055198329)\n",
      "(1.086, 3.5843737727209604)\n",
      "(1.0875, 3.4973966191953734)\n",
      "(1.089, 3.4504226995503866)\n",
      "(1.0905, 3.4003975006032867)\n",
      "(1.092, 3.3472071398936527)\n",
      "(1.0935, 3.2907393759615426)\n",
      "(1.095, 3.2308875077059236)\n",
      "(1.0965, 3.1675567509276803)\n",
      "(1.0979999999999999, 3.1006743950304108)\n",
      "(1.0995, 3.030205688097477)\n",
      "(1.101, 3.083061947532071)\n",
      "(1.1025, 3.2148778064769776)\n",
      "(1.1039999999999999, 3.335960254959616)\n",
      "(1.1055, 3.4478459531318983)\n",
      "(1.107, 3.551710185052431)\n",
      "(1.1085, 3.648476124489577)\n",
      "(1.1099999999999999, 3.7388851637985896)\n",
      "(1.1115, 3.8235439803865643)\n",
      "(1.113, 3.9029570897866335)\n",
      "(1.1145, 3.9775500042805043)\n",
      "(1.1159999999999999, 4.040990082790264)\n",
      "(1.1175, 4.097759734971675)\n",
      "(1.119, 4.151222433639728)\n",
      "(1.1205, 4.201557389847097)\n",
      "(1.1219999999999999, 4.2489275778270414)\n",
      "(1.1235, 4.293482212857217)\n",
      "(1.125, 4.335358824670268)\n",
      "(1.1265, 4.374685003179502)\n",
      "(1.128, 4.411579876141509)\n",
      "(1.1295, 4.446155365218296)\n",
      "(1.131, 4.478517256747442)\n",
      "(1.1324999999999998, 4.508766115655206)\n",
      "(1.134, 4.5369980648206)\n",
      "(1.1355, 4.563305447426172)\n",
      "(1.137, 4.587777386125417)\n",
      "(1.1385, 4.61050025000443)\n",
      "(1.14, 4.631558038159742)\n",
      "(1.1415, 4.651032687135241)\n",
      "(1.143, 4.66900430836736)\n",
      "(1.1444999999999999, 4.685551361102893)\n",
      "(1.146, 4.700750765912522)\n",
      "(1.1475, 4.714677963863412)\n",
      "(1.149, 4.727406926574675)\n",
      "(1.1504999999999999, 4.739010122696897)\n",
      "(1.152, 4.749558446765781)\n",
      "(1.1535, 4.759121116813446)\n",
      "(1.155, 4.767765547513636)\n",
      "(1.1564999999999999, 4.775557205927768)\n",
      "(1.158, 4.782559457055061)\n",
      "(1.1595, 4.788833406331755)\n",
      "(1.161, 4.7944377459475485)\n",
      "(1.1624999999999999, 4.799428611345503)\n",
      "(1.164, 4.803859453556927)\n",
      "(1.1655, 4.807780932124894)\n",
      "(1.1669999999999998, 4.811240832332685)\n",
      "(1.1684999999999999, 4.814284009330751)\n"
     ]
    }
   ],
   "source": []
  },
  {
   "cell_type": "code",
   "execution_count": 6,
   "metadata": {},
   "outputs": [
    {
     "name": "stdout",
     "output_type": "stream",
     "text": [
      "1.10012070525227\n"
     ]
    },
    {
     "data": {
      "text/plain": [
       "(1.1001208, 3.0000092048927502)"
      ]
     },
     "execution_count": 6,
     "metadata": {},
     "output_type": "execute_result"
    }
   ],
   "source": [
    "tt = ql.Actual365Fixed().yearFraction(as_of_date, display_maturity)\n",
    "atm_strike = spot * math.exp(0.5 * tt * 0.030**2)\n",
    "print(atm_strike)\n",
    "(1.1001206, 3.00000517338695)\n",
    "(1.1001208, 3.0000092048927502)"
   ]
  },
  {
   "cell_type": "code",
   "execution_count": 7,
   "metadata": {},
   "outputs": [
    {
     "ename": "TypeError",
     "evalue": "__init__() missing 1 required positional argument: 'interp'",
     "output_type": "error",
     "traceback": [
      "\u001b[1;31m---------------------------------------------------------------------------\u001b[0m",
      "\u001b[1;31mTypeError\u001b[0m                                 Traceback (most recent call last)",
      "\u001b[1;32m<ipython-input-7-c2e10324446d>\u001b[0m in \u001b[0;36m<module>\u001b[1;34m\u001b[0m\n\u001b[0;32m     11\u001b[0m                        \u001b[0mdeltas\u001b[0m\u001b[1;33m[\u001b[0m\u001b[0mi\u001b[0m\u001b[1;33m]\u001b[0m\u001b[1;33m,\u001b[0m\u001b[1;33m\u001b[0m\u001b[1;33m\u001b[0m\u001b[0m\n\u001b[0;32m     12\u001b[0m                        \u001b[0mdelta_type\u001b[0m\u001b[1;33m,\u001b[0m\u001b[1;33m\u001b[0m\u001b[1;33m\u001b[0m\u001b[0m\n\u001b[1;32m---> 13\u001b[1;33m                        smile)\n\u001b[0m\u001b[0;32m     14\u001b[0m     \u001b[0mguess\u001b[0m \u001b[1;33m=\u001b[0m \u001b[0msmile\u001b[0m\u001b[1;33m[\u001b[0m\u001b[1;36m2\u001b[0m\u001b[1;33m]\u001b[0m\u001b[1;33m\u001b[0m\u001b[1;33m\u001b[0m\u001b[0m\n\u001b[0;32m     15\u001b[0m     \u001b[0mvol_pts\u001b[0m\u001b[1;33m.\u001b[0m\u001b[0mappend\u001b[0m\u001b[1;33m(\u001b[0m\u001b[0msolver\u001b[0m\u001b[1;33m.\u001b[0m\u001b[0msolve\u001b[0m\u001b[1;33m(\u001b[0m\u001b[0mtarget\u001b[0m\u001b[1;33m,\u001b[0m \u001b[0maccuracy\u001b[0m\u001b[1;33m,\u001b[0m \u001b[0mguess\u001b[0m\u001b[1;33m,\u001b[0m \u001b[0mstep\u001b[0m\u001b[1;33m)\u001b[0m\u001b[1;33m)\u001b[0m\u001b[1;33m\u001b[0m\u001b[1;33m\u001b[0m\u001b[0m\n",
      "\u001b[1;31mTypeError\u001b[0m: __init__() missing 1 required positional argument: 'interp'"
     ]
    }
   ],
   "source": [
    "vol_pts = []\n",
    "k = atm_strike\n",
    "for i, smile in enumerate(voltilities):\n",
    "    mat = maturities[i]\n",
    "    target = TargetFun(as_of_date, \n",
    "                       spot,\n",
    "                       rTS.discount(mat), \n",
    "                       qTS.discount(mat), \n",
    "                       k, \n",
    "                       maturities[i], \n",
    "                       deltas[i], \n",
    "                       delta_type, \n",
    "                       smile)\n",
    "    guess = smile[2]\n",
    "    vol_pts.append(solver.solve(target, accuracy, guess, step))\n",
    "\n",
    "vts = ql.BlackVarianceCurve(as_of_date, \n",
    "                            maturities,\n",
    "                            vol_pts, \n",
    "                            ql.Actual365Fixed(), \n",
    "                            False)\n",
    "vts.enableExtrapolation()\n",
    "vts_handle = ql.BlackVolTermStructureHandle(vts)\n",
    "vol_atm_strike = vts_handle.blackVol(display_maturity, 1.0)\n",
    "print(vol_atm_strike)"
   ]
  }
 ],
 "metadata": {
  "kernelspec": {
   "display_name": "Python 3",
   "language": "python",
   "name": "python3"
  },
  "language_info": {
   "codemirror_mode": {
    "name": "ipython",
    "version": 3
   },
   "file_extension": ".py",
   "mimetype": "text/x-python",
   "name": "python",
   "nbconvert_exporter": "python",
   "pygments_lexer": "ipython3",
   "version": "3.7.3"
  }
 },
 "nbformat": 4,
 "nbformat_minor": 2
}
