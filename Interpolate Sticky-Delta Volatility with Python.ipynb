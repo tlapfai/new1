{
 "cells": [
  {
   "cell_type": "markdown",
   "metadata": {},
   "source": [
    "# Interpolate Sticky-Delta Volatility with Python\n",
    "\n",
    "In OTC FX option market, volatility smiles are quoted in a delta-volatilty instead of strike-volatility convention in equity option market. For pricing a given option, when one prepares volatility as a parameter in a Black-Scholes formula, they need to calculate the volatility for the given strike price in a delta-volatility dimension matrix.\n",
    "\n",
    "## 1. Quoted in Delta (premium excluded)\n",
    "Premium excluded delta is the case where the premium is paid in the quoted currency (ccy2) of a currency pair. Here the deltas can be used for interpolation without any adjustment.\n",
    "\n",
    "First, setup the market data.\n",
    "You may notice that negative deltas are used, which means they are delta of put. "
   ]
  },
  {
   "cell_type": "code",
   "execution_count": 1,
   "metadata": {},
   "outputs": [],
   "source": [
    "import QuantLib as ql\n",
    "import math\n",
    "\n",
    "as_of_date = ql.Date(1,2,2022)\n",
    "# Market Data\n",
    "tenors = [ql.Period('1M'), ql.Period('3M'), ql.Period('6M')]\n",
    "maturities = [as_of_date + t for t in tenors]\n",
    "voltilities = [[0.040, 0.030, 0.020, 0.025, 0.035], \n",
    "               [0.045, 0.040, 0.030, 0.035, 0.042],\n",
    "               [0.060, 0.052, 0.035, 0.045, 0.048],\n",
    "              ]\n",
    "deltas = [[-0.90, -0.75, -0.5, -0.25, -0.10], \n",
    "          [-0.90, -0.75, -0.5, -0.25, -0.10], \n",
    "          [-0.90, -0.75, -0.5, -0.25, -0.10], \n",
    "         ]\n",
    "rTS = ql.FlatForward(ql.Date(1,2,2022), ql.QuoteHandle(ql.SimpleQuote(0.05)), ql.Actual360(), ql.Compounded, ql.Annual)\n",
    "qTS = ql.FlatForward(ql.Date(1,2,2022), ql.QuoteHandle(ql.SimpleQuote(0.01)), ql.Actual360(), ql.Compounded, ql.Annual)\n",
    "spot = 1.1\n",
    "strike = 1.2"
   ]
  },
  {
   "cell_type": "markdown",
   "metadata": {},
   "source": [
    "Setup a target function for recurrsion"
   ]
  },
  {
   "cell_type": "code",
   "execution_count": 2,
   "metadata": {},
   "outputs": [],
   "source": [
    "class TargetFun:\n",
    "    def __init__(self, as_of_date, spot, rdf, qdf, strike, maturity, deltas, smile):\n",
    "        self.ref_date = as_of_date\n",
    "        self.strike = strike\n",
    "        self.maturity = maturity\n",
    "        self.spot = spot\n",
    "        self.rDcf = rdf # discount factor\n",
    "        self.qDcf = qdf # discount factor\n",
    "        self.t = ql.Actual365Fixed().yearFraction(as_of_date, self.maturity)\n",
    "        self.interp = ql.LinearInterpolation(deltas, smile)\n",
    "        self.delta_type = ql.DeltaVolQuote.Spot\n",
    "        \n",
    "    def __call__(self, v0):\n",
    "        optionType = ql.Option.Put\n",
    "        stdDev = math.sqrt(self.t) * v0\n",
    "        calc = ql.BlackDeltaCalculator(optionType, self.delta_type, self.spot, self.rDcf, self.qDcf, stdDev)\n",
    "        d = calc.deltaFromStrike(self.strike)\n",
    "        v = self.interp(d, allowExtrapolation=True)\n",
    "        return (v - v0)"
   ]
  },
  {
   "cell_type": "markdown",
   "metadata": {},
   "source": [
    "Set up a solver"
   ]
  },
  {
   "cell_type": "code",
   "execution_count": 3,
   "metadata": {},
   "outputs": [],
   "source": [
    "solver = ql.Brent()\n",
    "accuracy = 1e-12\n",
    "step = 1e-6"
   ]
  },
  {
   "cell_type": "code",
   "execution_count": 4,
   "metadata": {},
   "outputs": [],
   "source": [
    "vol_pts = []\n",
    "for i, smile in enumerate(voltilities):\n",
    "    mat = maturities[i]\n",
    "    target = TargetFun(as_of_date, \n",
    "                       spot,\n",
    "                       rTS.discount(mat), \n",
    "                       qTS.discount(mat), \n",
    "                       strike,\n",
    "                       maturities[i], \n",
    "                       deltas[i],\n",
    "                       smile)\n",
    "    guess = smile[2]\n",
    "    vol_pts.append(solver.solve(target, accuracy, guess, step))\n",
    "\n",
    "vts = ql.BlackVarianceCurve(as_of_date, \n",
    "                            maturities,\n",
    "                            vol_pts, \n",
    "                            ql.Actual365Fixed(), \n",
    "                            False)\n",
    "vts.enableExtrapolation()\n",
    "vts_handle = ql.BlackVolTermStructureHandle(vts)"
   ]
  }
 ],
 "metadata": {
  "kernelspec": {
   "display_name": "Python 3",
   "language": "python",
   "name": "python3"
  },
  "language_info": {
   "codemirror_mode": {
    "name": "ipython",
    "version": 3
   },
   "file_extension": ".py",
   "mimetype": "text/x-python",
   "name": "python",
   "nbconvert_exporter": "python",
   "pygments_lexer": "ipython3",
   "version": "3.7.3"
  }
 },
 "nbformat": 4,
 "nbformat_minor": 2
}
