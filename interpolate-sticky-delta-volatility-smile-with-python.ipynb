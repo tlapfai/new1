{
 "cells": [
  {
   "cell_type": "markdown",
   "metadata": {},
   "source": [
    "# Interpolate Sticky-Delta Volatility Smile with Python\n",
    "\n",
    "In OTC FX option market, volatility smiles are quoted in a delta-volatilty instead of strike-volatility convention in equity option market. For pricing a given option, when one prepares volatility as a parameter in a Black-Scholes formula, they need to calculate the volatility for the given strike price in a delta-volatility dimension matrix.\n",
    "\n",
    "## 1. Quoted in Delta (premium excluded)\n",
    "Premium excluded delta is the case where the premium is paid in the quoted currency (ccy2) of a currency pair, for example EUR/USD. Here the deltas can be used for interpolation without any adjustment.\n",
    "\n",
    "First, setup the market data.\n",
    "You may notice that negative deltas are used, which means they are deltas of put. The reason will be explained in the section for premium included delta."
   ]
  },
  {
   "cell_type": "code",
   "execution_count": 1,
   "metadata": {},
   "outputs": [],
   "source": [
    "import QuantLib as ql\n",
    "import math\n",
    "import numpy as np\n",
    "import matplotlib.pyplot as plt\n",
    "\n",
    "as_of_date = ql.Date(1,2,2022)\n",
    "# Market Data\n",
    "tenors = [ql.Period('1M'), ql.Period('3M'), ql.Period('6M')]\n",
    "maturities = [as_of_date + t for t in tenors]\n",
    "voltilities = [[0.040, 0.030, 0.020, 0.025, 0.035], \n",
    "               [0.045, 0.040, 0.030, 0.035, 0.042],\n",
    "               [0.060, 0.052, 0.035, 0.045, 0.048],\n",
    "              ]\n",
    "deltas = [[-0.90, -0.75, -0.5, -0.25, -0.10], \n",
    "          [-0.90, -0.75, -0.5, -0.25, -0.10], \n",
    "          [-0.90, -0.75, -0.5, -0.25, -0.10], \n",
    "         ]\n",
    "delta_type = ql.DeltaVolQuote.Spot\n",
    "rTS = ql.FlatForward(as_of_date, ql.QuoteHandle(ql.SimpleQuote(0.13)), ql.Actual365Fixed(), ql.Compounded, ql.Annual)\n",
    "qTS = ql.FlatForward(as_of_date, ql.QuoteHandle(ql.SimpleQuote(0.01)), ql.Actual365Fixed(), ql.Compounded, ql.Annual)\n",
    "spot = 1.1\n",
    "strike = 1.2"
   ]
  },
  {
   "cell_type": "markdown",
   "metadata": {},
   "source": [
    "Striky-delta is the quotation form that has delta for x-axis and volatility for y-axis. When we price a option with given strike, we firstly need to convert the strike to delta then map it to volatility. However, the delta formula needs both strike and volatility as inputs.\n",
    "$${\\Delta}_{put}(K,{\\sigma}) = {e}^{-(r-q)t}N(-\\frac{ln(\\frac{S}{K})+(r-q+\\frac{{\\sigma}^2}{2})t}{{\\sigma}\\sqrt{t}})$$\n",
    "Therefore, we need an initial guess of ${\\sigma}_{1}$ as input together with ${K}$, and obtain ${\\Delta}_{put}$ then interpolate ${\\sigma}$ from the ${\\Delta}$-${\\sigma}$ quotation. Usually ${\\sigma}_{ATM}$ is chosen to be the initial guess. The output ${\\sigma}_{2}$ will be different from our input ${\\sigma}_{1}$, so that we use ${\\sigma}_{2}$ as input and repeat the step, until the input ${\\sigma}_{n}$ and ouput ${\\sigma}_{n+1}$ are close enough.\n",
    "\n",
    "Let's setup a target function (as a class) for recurrsion. All the parameters are decided in `__init__` except ${\\sigma}$ (argument `v0`). For the convertion from ${K}$ to ${\\Delta}$, we leverage `BlackDeltaCalculator` class in QuantLib. This class has a method `deltaFromStrike` doing the convertion.\n",
    "\n",
    "In this `TargetFun` class, $K$ (`strike`) is decided in the initialization stage. After that, in the call stage, we can plug the guess `v0` as ${\\sigma}_{i}$ into `TargetFun(v0)` then obtain the difference of ${\\sigma}_{i+1}$ and ${\\sigma}_{i}$."
   ]
  },
  {
   "cell_type": "code",
   "execution_count": 2,
   "metadata": {},
   "outputs": [],
   "source": [
    "class TargetFun:\n",
    "    def __init__(self, as_of_date, spot, rdf, qdf, strike, maturity, deltas, delta_type, smile, interp):\n",
    "        self.ref_date = as_of_date\n",
    "        self.strike = strike\n",
    "        self.maturity = maturity\n",
    "        self.spot = spot\n",
    "        self.rDcf = rdf # discount factor\n",
    "        self.qDcf = qdf # discount factor\n",
    "        self.t = ql.Actual365Fixed().yearFraction(as_of_date, self.maturity)\n",
    "        self.interp = interp(deltas, smile)\n",
    "        self.delta_type = delta_type\n",
    "        \n",
    "    def __call__(self, v0):\n",
    "        optionType = ql.Option.Put\n",
    "        stdDev = math.sqrt(self.t) * v0\n",
    "        calc = ql.BlackDeltaCalculator(optionType, self.delta_type, self.spot, self.rDcf, self.qDcf, stdDev)\n",
    "        d = calc.deltaFromStrike(self.strike)\n",
    "        v = self.interp(d, allowExtrapolation=True)\n",
    "        return (v - v0)"
   ]
  },
  {
   "cell_type": "markdown",
   "metadata": {},
   "source": [
    "Choose a solver in QuantLib."
   ]
  },
  {
   "cell_type": "code",
   "execution_count": 3,
   "metadata": {},
   "outputs": [],
   "source": [
    "solver = ql.Brent()\n",
    "accuracy = 1e-16\n",
    "step = 1e-12"
   ]
  },
  {
   "cell_type": "markdown",
   "metadata": {},
   "source": [
    "So far we have prepared the `TargetFun` and all the market data, now all we need to do is to give a $K$ and solve the `TargetFun` = 0. In order to plot a strike-volatility smile, we give a series of strikes then plot. In `strike2vol` function, for a given strike, we interpolate the volatility over the tenors, so that we can setup a term structure with `vts = ql.BlackVarianceCurve`."
   ]
  },
  {
   "cell_type": "code",
   "execution_count": 4,
   "metadata": {
    "scrolled": false
   },
   "outputs": [
    {
     "data": {
      "image/png": "[encoded data removed]",
      "text/plain": [
       "<Figure size 432x288 with 1 Axes>"
      ]
     },
     "metadata": {
      "needs_background": "light"
     },
     "output_type": "display_data"
    }
   ],
   "source": [
    "vol_vs_strike = []\n",
    "strikes = np.linspace(1.05, 1.20, 500, endpoint=False)\n",
    "display_maturity = as_of_date + ql.Period('3M')\n",
    "\n",
    "def strike2vol(k):\n",
    "    vol_by_tenor = []\n",
    "    for i, smile in enumerate(voltilities):\n",
    "        mat = maturities[i]\n",
    "        target = TargetFun(as_of_date, \n",
    "                           spot,\n",
    "                           rTS.discount(mat), \n",
    "                           qTS.discount(mat), \n",
    "                           k, \n",
    "                           maturities[i], \n",
    "                           deltas[i], \n",
    "                           delta_type, \n",
    "                           smile, \n",
    "                           ql.LinearInterpolation) # usually use cubic spline (ql.CubicNaturalSpline)\n",
    "        guess = smile[2]\n",
    "        vol_by_tenor.append(solver.solve(target, accuracy, guess, step))\n",
    "    return vol_by_tenor\n",
    "\n",
    "for k in strikes:\n",
    "    vol_by_tenor = strike2vol(k)\n",
    "    vts = ql.BlackVarianceCurve(as_of_date, \n",
    "                                maturities,\n",
    "                                vol_by_tenor, \n",
    "                                ql.Actual365Fixed(), \n",
    "                                False)\n",
    "    vts.enableExtrapolation()\n",
    "    vts_handle = ql.BlackVolTermStructureHandle(vts)\n",
    "    vol_vs_strike.append(vts_handle.blackVol(display_maturity, 1.0)) # the strike 1.0 has no effect\n",
    "\n",
    "plt.plot(strikes, vol_vs_strike)\n",
    "plt.xlabel('Strike')\n",
    "plt.ylabel('Volatility')\n",
    "plt.title(f'Volatility at 3M ({display_maturity})')\n",
    "plt.grid(True)\n",
    "plt.show()"
   ]
  },
  {
   "cell_type": "markdown",
   "metadata": {},
   "source": [
    "You may find that the smile is a little bit weird (the shape near ATM is very sharp, and the curvature is downward). It is because we choose linear interpolation instead of other smooth interpolation methods commonly used by traders. But one can easily replace `ql.LinearInterpolation` with `ql.CubicNaturalSpline` to align with market practice.\n",
    "\n",
    "The ATM point is defined as the strike level where a option straddle has zero delta. This strike can be calculated by using put-call parity and this zero delta straddle. After some simple computation steps, the ATM strike will be\n",
    "$${K}_{ATM} = {S}{e}^{r-q+\\frac{{\\sigma}^{2}}{2}{T}}$$\n",
    "This ATM strike is slightly away from the forward price, here we will compute ${K}_{ATM}$ and its corresponding volatility to check this fact."
   ]
  },
  {
   "cell_type": "code",
   "execution_count": 7,
   "metadata": {},
   "outputs": [
    {
     "name": "stdout",
     "output_type": "stream",
     "text": [
      "ATM strike = \t\t1.1306522432146093\n",
      "ATM volatility = \t0.03002432862311605\n"
     ]
    }
   ],
   "source": [
    "tt = ql.Actual365Fixed().yearFraction(as_of_date, display_maturity)\n",
    "rdf = rTS.discount(display_maturity)\n",
    "qdf = qTS.discount(display_maturity)\n",
    "atm_strike = spot * math.exp(0.5 * tt * 0.030**2) / rdf * qdf\n",
    "atm_vol_by_tenor = strike2vol(atm_strike)\n",
    "vts = ql.BlackVarianceCurve(as_of_date, maturities, atm_vol_by_tenor, ql.Actual365Fixed(), False)\n",
    "print(f'ATM strike = \\t\\t{atm_strike}')\n",
    "print(f'ATM volatility = \\t{vts.blackVol(display_maturity, 1.0)}')"
   ]
  },
  {
   "cell_type": "markdown",
   "metadata": {},
   "source": [
    "# 2. Quoted in Premium-included Delta\n",
    "Deltas with premium are used in quotation where the premium is paid in base currency (ccy1) for a currency pair. For example, for pairs containing USD, USD is the premium currency except in the cases of EUR-, GBP, AUD- and NZD-.\n",
    "In this type of quotation, premium is deducted from the Black-Scholes delta. The reason is, for dynamic hedging, option seller need to hold ${\\Delta}$ unit of ccy1 (asset), he has already received the premium of $\\frac{{V}_{ccy1}}{S}$ in ccy1, therefore he only needs to buy ${\\Delta}-\\frac{{V}_{ccy1}}{S}$ unit of ccy1.\n",
    "In this case, before we do our interpolation on ${\\Delta}$ dimension, we need to convert the permium-included delta into a pure delta. QuantLib's `BlackDeltaCalculator` class can help us. We initialize this class with `dt=ql.DeltaVolQuote.PaSpot` to tell it premium-included delta is in used.\n",
    "\n",
    "Here we revise the `TargetFun` by adding a loop to convert premium-included delta to pure delta. We use `BlackDeltaCalculator.strikeFormDelta(dt=ql.DeltaVolQuote.PaSpot, ...)` to obtain `k` then `BlackDeltaCalculator.strikeFormDelta(dt=ql.DeltaVolQuote.Spot, ...)` to get pure `deltas`"
   ]
  },
  {
   "cell_type": "code",
   "execution_count": 8,
   "metadata": {},
   "outputs": [],
   "source": [
    "class TargetFun:\n",
    "    def __init__(self, as_of_date, spot, rdf, qdf, strike, maturity, deltas, delta_type, smile, interp):\n",
    "        self.ref_date = as_of_date\n",
    "        self.strike = strike\n",
    "        self.maturity = maturity\n",
    "        self.spot = spot\n",
    "        self.rDcf = rdf # discount factor\n",
    "        self.qDcf = qdf # discount factor\n",
    "        self.t = ql.Actual365Fixed().yearFraction(as_of_date, self.maturity)\n",
    "        \n",
    "        for i, delta in enumerate(deltas):\n",
    "            if not delta_type == ql.DeltaVolQuote.Spot:\n",
    "                stdDev = math.sqrt(self.t) * smile_section[i]\n",
    "                calc = ql.BlackDeltaCalculator(ql.Option.Put, delta_type, self.spot, self.rDcf, self.qDcf, stdDev)\n",
    "                k = calc.strikeFromDelta(deltas[i])\n",
    "                calc = ql.BlackDeltaCalculator(ql.Option.Put, ql.DeltaVolQuote.Spot, self.spot, self.rDcf, self.qDcf, stdDev)\n",
    "                deltas[i] = calc.deltaFromStrike(k)\n",
    "        \n",
    "        self.interp = interp(deltas, smile)\n",
    "        self.delta_type = ql.DeltaVolQuote.Spot\n",
    "        \n",
    "    def __call__(self, v0):\n",
    "        optionType = ql.Option.Put\n",
    "        stdDev = math.sqrt(self.t) * v0\n",
    "        calc = ql.BlackDeltaCalculator(optionType, self.delta_type, self.spot, self.rDcf, self.qDcf, stdDev)\n",
    "        d = calc.deltaFromStrike(self.strike)\n",
    "        v = self.interp(d, allowExtrapolation=True)\n",
    "        return (v - v0)\n",
    "\n",
    "delta_type = ql.DeltaVolQuote.PaSpot"
   ]
  },
  {
   "cell_type": "code",
   "execution_count": null,
   "metadata": {},
   "outputs": [],
   "source": []
  }
 ],
 "metadata": {
  "kernelspec": {
   "display_name": "Python 3",
   "language": "python",
   "name": "python3"
  },
  "language_info": {
   "codemirror_mode": {
    "name": "ipython",
    "version": 3
   },
   "file_extension": ".py",
   "mimetype": "text/x-python",
   "name": "python",
   "nbconvert_exporter": "python",
   "pygments_lexer": "ipython3",
   "version": "3.7.3"
  }
 },
 "nbformat": 4,
 "nbformat_minor": 2
}
